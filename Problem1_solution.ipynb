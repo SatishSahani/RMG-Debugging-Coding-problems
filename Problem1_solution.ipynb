{
 "cells": [
  {
   "cell_type": "markdown",
   "id": "bce2671d-41dc-42a0-98c9-44a0be82eb5c",
   "metadata": {},
   "source": [
    "# Problem1: Debug the peace of code to identify and fix the issues to make the script run correctly.\r\n"
   ]
  },
  {
   "cell_type": "code",
   "execution_count": 48,
   "id": "e3a970be-5e07-4c3e-bebb-ebc3b1c630a3",
   "metadata": {},
   "outputs": [
    {
     "name": "stdout",
     "output_type": "stream",
     "text": [
      "We have default list for the operations and that is [10, 20, 30, 40, 50]\n"
     ]
    },
    {
     "name": "stdin",
     "output_type": "stream",
     "text": [
      "If you want to enter customize input list then print 'Y/y' n\n"
     ]
    },
    {
     "name": "stdout",
     "output_type": "stream",
     "text": [
      "Average: 30.0\n",
      "Maximum number: 50\n",
      "Updated Average: 45.0\n",
      "Updated Maximum number: 80\n",
      "Final Average: 50.0\n",
      "Final Maximum number: 80\n"
     ]
    }
   ],
   "source": [
    "def isstring(element):\n",
    "        try:\n",
    "            if type(element)==str:\n",
    "                return True\n",
    "            else:\n",
    "                return False\n",
    "        except:\n",
    "            return False\n",
    "            \n",
    "def calculate_average(numbers):\n",
    "    total = sum(numbers)\n",
    "    average = total / len(numbers)\n",
    "    return average\n",
    "\n",
    "def find_maximum(numbers):\n",
    "    max_num = numbers[0]\n",
    "    l=len(numbers)\n",
    "    for num in numbers[1:l]: # lowering the complexity\n",
    "        if num > max_num:\n",
    "            max_num = num\n",
    "    return max_num\n",
    "\n",
    "def main():\n",
    "    numbers = [10, 20, 30, 40, 50]\n",
    "    print(f\"We have default list for the operations and that is {numbers}\")\n",
    "    response = input(\"If you want to enter customize input list then print 'Y/y'\")\n",
    "    if(response=='Y' or response =='y'):\n",
    "        numbers = list(map(int,input(\"Enter the number with space separated\").split(\" \")))\n",
    "    res = any(isstring(ele) for ele in numbers)\n",
    "    if( not res): # if number list is containing any string or other symbols otherthan digit then calculate_average will give error on sum() funtion\n",
    "        if(len(numbers)>0): # if number list is empty then calculate_average will give Zero division error\n",
    "            \n",
    "            avg = calculate_average(numbers)\n",
    "            print(\"Average:\", avg)\n",
    "            \n",
    "            max_num = find_maximum(numbers)\n",
    "            print(\"Maximum number:\", max_num)\n",
    "            \n",
    "            # Add some more numbers to the list\n",
    "            numbers.extend([60, 70, 80])# we also take customize input same as above one\n",
    "            \n",
    "            # Recalculate average and maximum\n",
    "            avg = calculate_average(numbers)\n",
    "            print(\"Updated Average:\", avg)\n",
    "            \n",
    "            max_num = find_maximum(numbers)\n",
    "            print(\"Updated Maximum number:\", max_num)\n",
    "            \n",
    "            # Remove the first number\n",
    "            numbers.pop(0)\n",
    "            \n",
    "            # Recalculate average and maximum again\n",
    "            avg = calculate_average(numbers)\n",
    "            print(\"Final Average:\", avg)\n",
    "            \n",
    "            max_num = find_maximum(numbers)\n",
    "            print(\"Final Maximum number:\", max_num)\n",
    "        else:\n",
    "            print(\"number list should not be empty\")\n",
    "    else:\n",
    "        print(\"The element of the list should be in number\")\n",
    "\n",
    "if __name__ == \"__main__\":\n",
    "    main()"
   ]
  }
 ],
 "metadata": {
  "kernelspec": {
   "display_name": "Python 3 (ipykernel)",
   "language": "python",
   "name": "python3"
  },
  "language_info": {
   "codemirror_mode": {
    "name": "ipython",
    "version": 3
   },
   "file_extension": ".py",
   "mimetype": "text/x-python",
   "name": "python",
   "nbconvert_exporter": "python",
   "pygments_lexer": "ipython3",
   "version": "3.11.5"
  }
 },
 "nbformat": 4,
 "nbformat_minor": 5
}
